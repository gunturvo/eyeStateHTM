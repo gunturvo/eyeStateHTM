{
 "cells": [
  {
   "cell_type": "code",
   "execution_count": null,
   "metadata": {
    "collapsed": true
   },
   "outputs": [],
   "source": [
    "import csv\n",
    "import numpy\n",
    "import os\n",
    "import yaml\n",
    "import time"
   ]
  },
  {
   "cell_type": "code",
   "execution_count": null,
   "metadata": {
    "collapsed": true
   },
   "outputs": [],
   "source": [
    "from nupic.algorithms.sdr_classifier_factory import SDRClassifierFactory\n",
    "from nupic.algorithms.spatial_pooler import SpatialPooler\n",
    "from nupic.algorithms.temporal_memory import TemporalMemory\n",
    "from nupic.encoders.random_distributed_scalar import RandomDistributedScalarEncoder"
   ]
  },
  {
   "cell_type": "code",
   "execution_count": null,
   "metadata": {
    "collapsed": true
   },
   "outputs": [],
   "source": [
    "_NUM_RECORDS = 7000\n",
    "\n",
    "_WORK_DIR = os.getcwd()\n",
    "_INPUT_FILE_PATH = os.path.join(_WORK_DIR, \"dataset\", \"eyeState14400.csv\")\n",
    "_PARAMS_PATH = os.path.join(_WORK_DIR, \"params\", \"modelEyeState128.yaml\")"
   ]
  },
  {
   "cell_type": "code",
   "execution_count": null,
   "metadata": {
    "collapsed": true
   },
   "outputs": [],
   "source": [
    "with open(_PARAMS_PATH, \"r\") as f:\n",
    "    modelParams = yaml.safe_load(f)[\"modelParams\"]\n",
    "    enParams = modelParams[\"sensorParams\"][\"encoders\"]\n",
    "    spParams = modelParams[\"spParams\"]\n",
    "    tmParams = modelParams[\"tmParams\"]"
   ]
  },
  {
   "cell_type": "code",
   "execution_count": null,
   "metadata": {
    "collapsed": true
   },
   "outputs": [],
   "source": [
    "encoderAF3 = RandomDistributedScalarEncoder(enParams[\"sensAF3\"][\"resolution\"])\n",
    "encoderF7 = RandomDistributedScalarEncoder(enParams[\"sensF7\"][\"resolution\"])\n",
    "encoderF3 = RandomDistributedScalarEncoder(enParams[\"sensF3\"][\"resolution\"])\n",
    "encoderFC5 = RandomDistributedScalarEncoder(enParams[\"sensFC5\"][\"resolution\"])\n",
    "encoderT7 = RandomDistributedScalarEncoder(enParams[\"sensT7\"][\"resolution\"])\n",
    "encoderP7 = RandomDistributedScalarEncoder(enParams[\"sensP7\"][\"resolution\"])\n",
    "encoderO1 = RandomDistributedScalarEncoder(enParams[\"sensO1\"][\"resolution\"])\n",
    "encoderO2 = RandomDistributedScalarEncoder(enParams[\"sensO2\"][\"resolution\"])\n",
    "encoderP8 = RandomDistributedScalarEncoder(enParams[\"sensP8\"][\"resolution\"])\n",
    "encoderT8 = RandomDistributedScalarEncoder(enParams[\"sensT8\"][\"resolution\"])\n",
    "encoderFC6 = RandomDistributedScalarEncoder(enParams[\"sensFC6\"][\"resolution\"])\n",
    "encoderF4 = RandomDistributedScalarEncoder(enParams[\"sensF4\"][\"resolution\"])\n",
    "encoderF8 = RandomDistributedScalarEncoder(enParams[\"sensF8\"][\"resolution\"])\n",
    "encoderAF4 = RandomDistributedScalarEncoder(enParams[\"sensAF4\"][\"resolution\"])\n",
    "encoderEyeDetection = RandomDistributedScalarEncoder(enParams[\"sensEyeDetection\"][\"resolution\"])\n",
    "\n",
    "encodingWidth = (encoderAF3.getWidth() + encoderF7.getWidth() + encoderF3.getWidth()\n",
    "                 + encoderFC5.getWidth() + encoderT7.getWidth() + encoderP7.getWidth()\n",
    "                 + encoderO1.getWidth() + encoderO2.getWidth() + encoderP8.getWidth()\n",
    "                 + encoderT8.getWidth() + encoderFC6.getWidth() + encoderF4.getWidth()\n",
    "                 + encoderF8.getWidth() + encoderAF4.getWidth() + encoderEyeDetection.getWidth())"
   ]
  },
  {
   "cell_type": "code",
   "execution_count": null,
   "metadata": {},
   "outputs": [],
   "source": [
    "start = time.time()\n",
    "\n",
    "sp = SpatialPooler(\n",
    "  inputDimensions=(encodingWidth,),\n",
    "  columnDimensions=(spParams[\"columnCount\"],),\n",
    "  potentialPct=spParams[\"potentialPct\"],\n",
    "  potentialRadius=encodingWidth,\n",
    "  globalInhibition=spParams[\"globalInhibition\"],\n",
    "  localAreaDensity=spParams[\"localAreaDensity\"],\n",
    "  numActiveColumnsPerInhArea=spParams[\"numActiveColumnsPerInhArea\"],\n",
    "  synPermInactiveDec=spParams[\"synPermInactiveDec\"],\n",
    "  synPermActiveInc=spParams[\"synPermActiveInc\"],\n",
    "  synPermConnected=spParams[\"synPermConnected\"],\n",
    "  boostStrength=spParams[\"boostStrength\"],\n",
    "  seed=spParams[\"seed\"],\n",
    "  wrapAround=False\n",
    ")\n",
    "\n",
    "end = time.time()\n",
    "hours, rem = divmod(end-start, 3600)\n",
    "minutes, seconds = divmod(rem, 60)\n",
    "print(\"Waktu eksekusi : {:0>2}:{:0>2}:{:05.2f}\".format(int(hours),int(minutes),seconds))"
   ]
  },
  {
   "cell_type": "code",
   "execution_count": null,
   "metadata": {
    "collapsed": true
   },
   "outputs": [],
   "source": [
    "tm = TemporalMemory(\n",
    "  columnDimensions=(tmParams[\"columnCount\"],),\n",
    "  cellsPerColumn=tmParams[\"cellsPerColumn\"],\n",
    "  activationThreshold=tmParams[\"activationThreshold\"],\n",
    "  initialPermanence=tmParams[\"initialPerm\"],\n",
    "  connectedPermanence=spParams[\"synPermConnected\"],\n",
    "  minThreshold=tmParams[\"minThreshold\"],\n",
    "  maxNewSynapseCount=tmParams[\"newSynapseCount\"],\n",
    "  permanenceIncrement=tmParams[\"permanenceInc\"],\n",
    "  permanenceDecrement=tmParams[\"permanenceDec\"],\n",
    "  predictedSegmentDecrement=0.0,\n",
    "  maxSegmentsPerCell=tmParams[\"maxSegmentsPerCell\"],\n",
    "  maxSynapsesPerSegment=tmParams[\"maxSynapsesPerSegment\"],\n",
    "  seed=tmParams[\"seed\"]\n",
    ")"
   ]
  },
  {
   "cell_type": "code",
   "execution_count": null,
   "metadata": {
    "collapsed": true
   },
   "outputs": [],
   "source": [
    "classifier = SDRClassifierFactory.create()\n",
    "postvDetect = 0"
   ]
  },
  {
   "cell_type": "code",
   "execution_count": null,
   "metadata": {},
   "outputs": [],
   "source": [
    "start = time.time()\n",
    "\n",
    "with open(_INPUT_FILE_PATH, \"r\") as fin:\n",
    "    reader = csv.reader(fin)\n",
    "    headers = reader.next()\n",
    "    reader.next()\n",
    "    reader.next()\n",
    "\n",
    "    for count, record in enumerate(reader):\n",
    "\n",
    "        if count >= _NUM_RECORDS:\n",
    "            break\n",
    "\n",
    "        sensAF3 = float(record[0])\n",
    "        sensF7 = float(record[1])\n",
    "        sensF3 = float(record[2])\n",
    "        sensFC5 = float(record[3])\n",
    "        sensT7 = float(record[4])\n",
    "        sensP7 = float(record[5])\n",
    "        sensO1 = float(record[6])\n",
    "        sensO2 = float(record[7])\n",
    "        sensP8 = float(record[8])\n",
    "        sensT8 = float(record[9])\n",
    "        sensFC6 = float(record[10])\n",
    "        sensF4 = float(record[11])\n",
    "        sensF8 = float(record[12])\n",
    "        sensAF4 = float(record[13])\n",
    "        sensEyeDetection = float(record[14])\n",
    "\n",
    "        sensAF3_Bits = numpy.zeros(encoderAF3.getWidth())\n",
    "        sensF7_Bits = numpy.zeros(encoderF7.getWidth())\n",
    "        sensF3_Bits = numpy.zeros(encoderF3.getWidth())\n",
    "        sensFC5_Bits = numpy.zeros(encoderFC5.getWidth())\n",
    "        sensT7_Bits = numpy.zeros(encoderT7.getWidth())\n",
    "        sensP7_Bits = numpy.zeros(encoderP7.getWidth())\n",
    "        sensO1_Bits = numpy.zeros(encoderO1.getWidth())\n",
    "        sensO2_Bits = numpy.zeros(encoderO2.getWidth())\n",
    "        sensP8_Bits = numpy.zeros(encoderP8.getWidth())\n",
    "        sensT8_Bits = numpy.zeros(encoderT8.getWidth())\n",
    "        sensFC6_Bits = numpy.zeros(encoderFC6.getWidth())\n",
    "        sensF4_Bits = numpy.zeros(encoderF4.getWidth())\n",
    "        sensF8_Bits = numpy.zeros(encoderF8.getWidth())\n",
    "        sensAF4_Bits = numpy.zeros(encoderAF4.getWidth())\n",
    "        sensEyeDetection_Bits = numpy.zeros(encoderEyeDetection.getWidth())\n",
    "\n",
    "        encoderAF3.encodeIntoArray(sensAF3, sensAF3_Bits)\n",
    "        encoderF7.encodeIntoArray(sensF7, sensF7_Bits)\n",
    "        encoderF3.encodeIntoArray(sensF3, sensF3_Bits)\n",
    "        encoderFC5.encodeIntoArray(sensFC5, sensFC5_Bits)\n",
    "        encoderT7.encodeIntoArray(sensT7, sensT7_Bits)\n",
    "        encoderP7.encodeIntoArray(sensP7, sensP7_Bits)\n",
    "        encoderO1.encodeIntoArray(sensO1, sensO1_Bits)\n",
    "        encoderO2.encodeIntoArray(sensO2, sensO2_Bits)\n",
    "        encoderP8.encodeIntoArray(sensP8, sensP8_Bits)\n",
    "        encoderT8.encodeIntoArray(sensT8, sensT8_Bits)\n",
    "        encoderFC6.encodeIntoArray(sensFC6, sensFC6_Bits)\n",
    "        encoderF4.encodeIntoArray(sensF4, sensF4_Bits)\n",
    "        encoderF8.encodeIntoArray(sensF8, sensF8_Bits)\n",
    "        encoderAF4.encodeIntoArray(sensAF4, sensAF4_Bits)\n",
    "        encoderEyeDetection.encodeIntoArray(sensEyeDetection,\n",
    "                                            sensEyeDetection_Bits)\n",
    "\n",
    "        encoding = numpy.concatenate(\n",
    "            [sensAF3_Bits, sensF7_Bits, sensF3_Bits, sensFC5_Bits, sensT7_Bits,\n",
    "             sensP7_Bits, sensO1_Bits, sensO2_Bits, sensP8_Bits, sensT8_Bits,\n",
    "             sensFC6_Bits, sensF4_Bits, sensF8_Bits, sensAF4_Bits,\n",
    "             sensEyeDetection_Bits]\n",
    "        )\n",
    "\n",
    "        activeColumns = numpy.zeros(spParams[\"columnCount\"])\n",
    "\n",
    "        sp.compute(encoding, True, activeColumns)\n",
    "        activeColumnIndices = numpy.nonzero(activeColumns)[0]\n",
    "\n",
    "        tm.compute(activeColumnIndices, learn=True)\n",
    "\n",
    "        activeCells = tm.getActiveCells()\n",
    "\n",
    "        bucketIdx = encoderEyeDetection.getBucketIndices(sensEyeDetection)[0]\n",
    "\n",
    "        classifierResult = classifier.compute(\n",
    "            recordNum=count,\n",
    "            patternNZ=activeCells,\n",
    "            classification={\n",
    "                \"bucketIdx\": bucketIdx,\n",
    "                \"actValue\": sensEyeDetection\n",
    "            },\n",
    "            learn=True,\n",
    "            infer=True\n",
    "        )\n",
    "\n",
    "        oneStepConfidence, oneStep = sorted(\n",
    "            zip(classifierResult[1], classifierResult[\"actualValues\"]),\n",
    "            reverse=True\n",
    "        )[0]\n",
    "\n",
    "        if (sensEyeDetection == oneStep):\n",
    "            postvDetect += 1\n",
    "\n",
    "        print(\"{:5}\\tAktual: {:2.0f}\\tHTM: {:2.0f}\\t\\tAkurasi: {:4.4}%\".format(count, sensEyeDetection,\n",
    "              oneStep, float(postvDetect) / (count+1) * 100))\n",
    "        \n",
    "        \n",
    "end = time.time()\n",
    "hours, rem = divmod(end-start, 3600)\n",
    "minutes, seconds = divmod(rem, 60)\n",
    "print(\"Waktu eksekusi : {:0>2}:{:0>2}:{:05.2f}\".format(int(hours),int(minutes),seconds))"
   ]
  }
 ],
 "metadata": {
  "kernelspec": {
   "display_name": "Python 2",
   "language": "python",
   "name": "python2"
  },
  "language_info": {
   "codemirror_mode": {
    "name": "ipython",
    "version": 2
   },
   "file_extension": ".py",
   "mimetype": "text/x-python",
   "name": "python",
   "nbconvert_exporter": "python",
   "pygments_lexer": "ipython2",
   "version": "2.7.13"
  }
 },
 "nbformat": 4,
 "nbformat_minor": 2
}
